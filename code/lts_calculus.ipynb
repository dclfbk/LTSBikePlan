{
 "cells": [
  {
   "cell_type": "code",
   "execution_count": 1,
   "metadata": {
    "execution": {
     "iopub.execute_input": "2023-08-06T14:54:17.122419Z",
     "iopub.status.busy": "2023-08-06T14:54:17.122147Z",
     "iopub.status.idle": "2023-08-06T14:54:18.220027Z",
     "shell.execute_reply": "2023-08-06T14:54:18.219720Z"
    }
   },
   "outputs": [
    {
     "name": "stdout",
     "output_type": "stream",
     "text": [
      "The shape of gdf edges: (3213, 16)\n",
      "The shape of gdf edges allowed: (3203, 17)\n",
      "The shape of gdf edges not allowed: (10, 17)\n",
      "The shape of separated edges: (958, 18)\n",
      "The shape of unseparated edges: (2245, 16)\n",
      "Empty GeoDataFrame\n",
      "Columns: [osmid, name, highway, oneway, reversed, length, ref, geometry, lanes, bridge, maxspeed, junction, access, est_width, tunnel, service]\n",
      "Index: []\n",
      "The shape of analyze lanes: (0, 16)\n",
      "The shape of no lane: (2245, 16)\n",
      "The shape of parking_detected: (0, 16)\n",
      "The shape of parking no-detected: (0, 16)\n",
      "The shape of lts_no_lane: (2245, 20)\n",
      "The shape of all_lts: (3213, 20)\n"
     ]
    }
   ],
   "source": [
    "### Analyze LTS for edges\n",
    "#The process is divided in different steps:\n",
    "# 1) biking allowed, not allowed\n",
    "# 2) check if there are separated paths and assign lowest lst value\n",
    "# 3) check for separated paths and unseparated\n",
    "# 4) check the presence of bike lanes in the unseparated scenario\n",
    "# 5) check presence or not of parking in bike lanes\n",
    "# 6) mixed traffic analyisis\n",
    "from ltsfunctions import BikePathAnalysis\n",
    "import json,os\n",
    "import pandas as pd\n",
    "import numpy as np\n",
    "import geopandas as gpd\n",
    "import networkx as nx\n",
    "from tqdm import tqdm\n",
    "import pickle\n",
    "import osmnx as ox\n",
    "\n",
    "# Load the GeoDataFrames from the specified path\n",
    "pickle_path = \"/Users/leonardo/Desktop/Tesi/LTSBikePlan/data/gdf_data.pkl\"\n",
    "with open(pickle_path, 'rb') as f:\n",
    "    gdf_nodes, gdf_edges, city = pickle.load(f)\n",
    "\n",
    "# Start by finding where biking is allowed and get edges where biking is not *not* allowed.\n",
    "print(\"The shape of gdf edges:\", gdf_edges.shape)\n",
    "gdf_allowed, gdf_not_allowed = BikePathAnalysis.biking_permitted(gdf_edges)\n",
    "\n",
    "print(\"The shape of gdf edges allowed:\",gdf_allowed.shape)\n",
    "print(\"The shape of gdf edges not allowed:\",gdf_not_allowed.shape)\n",
    "\n",
    "# check for separated path\n",
    "separated_edges, unseparated_edges = BikePathAnalysis.is_separated_path(gdf_allowed)\n",
    "# assign separated ways lts = 1\n",
    "separated_edges = separated_edges.copy()\n",
    "separated_edges.loc[:, 'lts'] = 1\n",
    "print(\"The shape of separated edges:\", separated_edges.shape)\n",
    "print(\"The shape of unseparated edges:\", unseparated_edges.shape)\n",
    "\n",
    "#check the presence of bike lane in unseparated paths\n",
    "to_analyze, no_lane = BikePathAnalysis.is_bike_lane(unseparated_edges)\n",
    "print(to_analyze)\n",
    "print(\"The shape of analyze lanes:\",to_analyze.shape)\n",
    "print(\"The shape of no lane:\",no_lane.shape)\n",
    "\n",
    "#check presence of the parking or not\n",
    "parking_detected, parking_not_detected = BikePathAnalysis.parking_present(to_analyze)\n",
    "print(\"The shape of parking_detected:\",parking_detected.shape)\n",
    "print(\"The shape of parking no-detected:\",parking_not_detected.shape)\n",
    "parking_lts = BikePathAnalysis.bike_lane_analysis_with_parking(parking_detected)\n",
    "no_parking_lts = BikePathAnalysis.bike_lane_analysis_without_parking(parking_not_detected)\n",
    "\n",
    "# Next - mixed traffic analysis\n",
    "lts_no_lane = BikePathAnalysis.mixed_traffic(no_lane)\n",
    "print(\"The shape of lts_no_lane:\",lts_no_lane.shape)\n",
    "\n",
    "# final components: lts_no_lane, parking_lts, no_parking_lts, separated_edges should all add up\n",
    "# these should all add up to gdf_allowed\n",
    "# print(gdf_allowed.shape)\n",
    "lts_no_lane.shape[0] + parking_lts.shape[0] + no_parking_lts.shape[0] + separated_edges.shape[0]\n",
    "gdf_not_allowed['lts'] = 0\n",
    "all_lts = pd.concat([separated_edges, parking_lts, no_parking_lts, lts_no_lane, gdf_not_allowed])\n",
    "print(\"The shape of all_lts:\", all_lts.shape)\n",
    "\n",
    "# decision rule glossary (taken from Bike Ottawa)\n",
    "# Load the dictionaries from the JSON file\n",
    "with open('LTS_decisionrule_dict.json', 'r') as file:\n",
    "    data = json.load(file)\n",
    "    rule_message_dict = data['rule_message_dict']\n",
    "    simplified_message_dict = data['simplified_message_dict']\n",
    "\n",
    "# Use the dictionaries in your code\n",
    "all_lts['message'] = all_lts['rule'].map(rule_message_dict)\n",
    "all_lts['short_message'] = all_lts['rule'].map(simplified_message_dict)\n"
   ]
  },
  {
   "cell_type": "code",
   "execution_count": 2,
   "metadata": {
    "execution": {
     "iopub.execute_input": "2023-08-06T14:54:18.238075Z",
     "iopub.status.busy": "2023-08-06T14:54:18.237980Z",
     "iopub.status.idle": "2023-08-06T14:54:19.003642Z",
     "shell.execute_reply": "2023-08-06T14:54:19.003284Z"
    }
   },
   "outputs": [],
   "source": [
    "# Calculate node LTS. \n",
    "# - An intersection without either was assigned the highest LTS of its intersecting roads. \n",
    "# - Stop signs reduced an otherwise LTS2 intersection to LTS1. \n",
    "# - A signalized intersection of two lowstress links was assigned LTS1. \n",
    "# - Assigned LTS2 to signalized intersections where a low-stress (LTS1/ 2) link crosses a high-stress (LTS3/4) link. \n",
    "# Apply the function to the dataframe\n",
    "gdf_nodes['lts'], gdf_nodes['message'] = zip(*gdf_nodes.apply(BikePathAnalysis.calculate_lts_nodes, args=(all_lts,), axis=1))"
   ]
  },
  {
   "cell_type": "code",
   "execution_count": 3,
   "metadata": {
    "execution": {
     "iopub.execute_input": "2023-08-06T14:54:19.005356Z",
     "iopub.status.busy": "2023-08-06T14:54:19.005291Z",
     "iopub.status.idle": "2023-08-06T14:54:19.252963Z",
     "shell.execute_reply": "2023-08-06T14:54:19.252680Z"
    }
   },
   "outputs": [],
   "source": [
    "base_path = \"/Users/leonardo/Desktop/Tesi/LTSBikePlan/data/\"\n",
    "\n",
    "# Sanitize the city name\n",
    "city_sanitized = city.replace(\" \", \"_\").replace(\",\", \"\")\n",
    "\n",
    "# Save nodes data\n",
    "gdf_nodes.to_csv(f\"{base_path}{city_sanitized}_gdf_nodes.csv\")\n",
    "\n",
    "# Save a subset of all_lts directly\n",
    "all_lts[['osmid', 'lanes', 'name', 'highway', 'maxspeed', 'geometry', 'length', 'rule', 'lts', \n",
    "         'lanes_assumed', 'maxspeed_assumed', 'message', 'short_message']].to_csv(f\"{base_path}{city_sanitized}_all_lts.csv\")\n",
    "\n",
    "# Create graph with LTS information\n",
    "G_lts = ox.graph_from_gdfs(gdf_nodes, all_lts[['osmid', 'lanes', 'name', 'highway', 'maxspeed', 'geometry', 'length', 'rule', 'lts', \n",
    "                                               'lanes_assumed', 'maxspeed_assumed', 'message', 'short_message']])\n",
    "\n",
    "# Save LTS graph\n",
    "ox.save_graphml(G_lts, f\"{base_path}{city_sanitized}_lts.graphml\")"
   ]
  }
 ],
 "metadata": {
  "kernelspec": {
   "display_name": "base",
   "language": "python",
   "name": "python3"
  },
  "language_info": {
   "codemirror_mode": {
    "name": "ipython",
    "version": 3
   },
   "file_extension": ".py",
   "mimetype": "text/x-python",
   "name": "python",
   "nbconvert_exporter": "python",
   "pygments_lexer": "ipython3",
   "version": "3.9.13"
  }
 },
 "nbformat": 4,
 "nbformat_minor": 2
}
