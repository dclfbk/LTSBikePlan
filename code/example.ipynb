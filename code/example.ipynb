{
 "cells": [
  {
   "cell_type": "code",
   "execution_count": 23,
   "metadata": {},
   "outputs": [],
   "source": [
    "import osmnx as ox\n",
    "import networkx as nx\n",
    "import numpy as np\n",
    "import matplotlib.cm as cm"
   ]
  },
  {
   "cell_type": "code",
   "execution_count": 3,
   "metadata": {},
   "outputs": [],
   "source": [
    "location=\"Trento, Territorio Val d'Adige, Provincia di Trento, Trentino-Alto Adige/Südtirol, Italy\""
   ]
  },
  {
   "cell_type": "code",
   "execution_count": 5,
   "metadata": {},
   "outputs": [],
   "source": [
    "# download Trento \n",
    "G = ox.graph_from_place(location, network_type='bike')"
   ]
  },
  {
   "cell_type": "code",
   "execution_count": 6,
   "metadata": {},
   "outputs": [],
   "source": [
    "# calculate the metrics for each arc\n",
    "G = ox.add_edge_bearings(ox.get_undirected(G))\n",
    "G = ox.add_edge_speeds(G)\n",
    "G = ox.add_edge_travel_times(G)"
   ]
  },
  {
   "cell_type": "code",
   "execution_count": 10,
   "metadata": {},
   "outputs": [],
   "source": [
    "weights = {'primary': 1, 'secondary': 0.8, 'tertiary': 0.6, 'residential': 0.4, 'unclassified': 0.2, 'cycleway': 1.2}"
   ]
  },
  {
   "cell_type": "code",
   "execution_count": 22,
   "metadata": {},
   "outputs": [],
   "source": [
    "# Calcola il BikeScore per ogni strada nell'area di interesse\n",
    "bikescore = {}\n",
    "for u, v, k, data in G.edges(keys=True, data=True):\n",
    "    if 'cycleway' in data['highway']:\n",
    "        # se la strada è una pista ciclabile, il suo peso viene moltiplicato per un fattore maggiore\n",
    "        weight = weights['cycleway']\n",
    "    else:\n",
    "        # altrimenti, viene utilizzato il peso corrispondente al tipo di strada\n",
    "        weight = weights.get(''.join(data['highway']), 0)\n",
    "    slope = data.get('grade', 0)  # inclinazione della strada, se disponibile\n",
    "    bikescore[(u, v, k)] = weight * (1 - np.tanh(slope))  # calcolo del punteggio per questa strada"
   ]
  },
  {
   "cell_type": "code",
   "execution_count": 24,
   "metadata": {},
   "outputs": [],
   "source": [
    "# Visualizza una mappa colorata in base ai valori di BikeScore\n",
    "cmap = cm.get_cmap('plasma')\n",
    "norm = cm.colors.Normalize(vmin=min(bikescore.values()), vmax=max(bikescore.values()))\n",
    "colors = [cmap(norm(bike)) for bike in bikescore.values()]\n",
    "ox.plot_graph_folium(G, edge_color=colors, edge_width=2)"
   ]
  }
 ],
 "metadata": {
  "kernelspec": {
   "display_name": "Python 3",
   "language": "python",
   "name": "python3"
  },
  "language_info": {
   "codemirror_mode": {
    "name": "ipython",
    "version": 3
   },
   "file_extension": ".py",
   "mimetype": "text/x-python",
   "name": "python",
   "nbconvert_exporter": "python",
   "pygments_lexer": "ipython3",
   "version": "3.10.6"
  },
  "orig_nbformat": 4
 },
 "nbformat": 4,
 "nbformat_minor": 2
}
