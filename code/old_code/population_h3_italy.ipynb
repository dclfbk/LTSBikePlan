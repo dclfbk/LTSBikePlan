{
 "cells": [
  {
   "cell_type": "code",
   "execution_count": 23,
   "metadata": {},
   "outputs": [
    {
     "name": "stdout",
     "output_type": "stream",
     "text": [
      "                     h3  population  \\\n",
      "74013   881ea481d3fffff         1.0   \n",
      "74021   881ea480cdfffff      1648.0   \n",
      "74022   881ea480b1fffff       919.0   \n",
      "74032   881ea4856bfffff      2253.0   \n",
      "74033   881ea48565fffff       546.0   \n",
      "...                 ...         ...   \n",
      "123903  881ea48465fffff        24.0   \n",
      "123923  881ea4842dfffff       164.0   \n",
      "133484  881ea495b3fffff         1.0   \n",
      "133487  881ea495a1fffff       365.0   \n",
      "133499  881ea49581fffff         7.0   \n",
      "\n",
      "                                                 geometry  \n",
      "74013   POLYGON ((11.04685 46.03190, 11.04498 46.02729...  \n",
      "74021   POLYGON ((11.05202 46.07516, 11.05015 46.07055...  \n",
      "74022   POLYGON ((11.09916 46.03879, 11.09729 46.03418...  \n",
      "74032   POLYGON ((11.13982 46.04741, 11.13794 46.04280...  \n",
      "74033   POLYGON ((11.12251 46.03531, 11.12064 46.03070...  \n",
      "...                                                   ...  \n",
      "123903  POLYGON ((11.18311 46.07764, 11.18123 46.07303...  \n",
      "123923  POLYGON ((11.19781 46.06810, 11.19593 46.06349...  \n",
      "133484  POLYGON ((11.15027 46.13390, 11.14839 46.12929...  \n",
      "133487  POLYGON ((11.10654 46.13307, 11.10466 46.12846...  \n",
      "133499  POLYGON ((11.12083 46.15295, 11.11895 46.14834...  \n",
      "\n",
      "[224 rows x 3 columns]\n",
      "                                               geometry\n",
      "0     POLYGON ((665242.309 5110752.670, 665260.260 5...\n",
      "1     POLYGON ((657212.867 5104833.944, 657230.733 5...\n",
      "2     POLYGON ((662888.431 5099370.773, 662906.358 5...\n",
      "3     POLYGON ((659028.771 5104495.406, 659046.656 5...\n",
      "4     POLYGON ((667801.307 5104250.934, 667819.285 5...\n",
      "...                                                 ...\n",
      "1479  POLYGON ((665303.270 5100311.526, 665321.222 5...\n",
      "1480  POLYGON ((666096.649 5111172.826, 666114.609 5...\n",
      "1481  POLYGON ((662028.196 5108802.645, 662046.113 5...\n",
      "1482  POLYGON ((669523.353 5103002.616, 669541.349 5...\n",
      "1483  POLYGON ((658358.214 5098129.389, 658376.093 5...\n",
      "\n",
      "[1484 rows x 1 columns]\n"
     ]
    }
   ],
   "source": [
    "import geopandas as gpd\n",
    "from shapely.wkt import loads\n",
    "import h3\n",
    "from shapely.geometry import box, Polygon\n",
    "\n",
    "\n",
    "with open(\"../data/trento_city_boundary.wkt\", \"r\") as file:\n",
    "    city_boundary = loads(file.read())\n",
    "\n",
    "geo_file_path = '../data/kontur_population_IT_20220630.gpkg'\n",
    "\n",
    "pop = gpd.read_file(geo_file_path)\n",
    "pop = pop.to_crs(\"EPSG:4326\")\n",
    "pop_gdf = pop[pop.geometry.intersects(city_boundary)]\n",
    "print(pop_gdf)\n",
    "\n",
    "\n",
    "# Function to create a hexagonal grid within the city boundaries\n",
    "def create_hex_grid_within_city_bounds(city_boundary, resolution):\n",
    "    hexagons = h3.polyfill(city_boundary.__geo_interface__, resolution, geo_json_conformant=True)\n",
    "\n",
    "    filtered_hexagons = []\n",
    "    for h in hexagons:\n",
    "        hex_polygon = Polygon(h3.h3_to_geo_boundary(h, geo_json=True))\n",
    "        if hex_polygon.intersects(city_boundary):\n",
    "            filtered_hexagons.append(hex_polygon)\n",
    "\n",
    "    hex_grid = gpd.GeoDataFrame([{'geometry': hexagon} for hexagon in filtered_hexagons])\n",
    "    hex_grid.crs = 'EPSG:4326'\n",
    "\n",
    "    return hex_grid\n",
    "\n",
    "hex_grid_within_city = create_hex_grid_within_city_bounds(city_boundary, 9)\n",
    "hex_grid_projected = hex_grid_within_city.to_crs('EPSG: 32632')\n",
    "print(hex_grid_projected)"
   ]
  },
  {
   "cell_type": "code",
   "execution_count": 24,
   "metadata": {},
   "outputs": [
    {
     "name": "stdout",
     "output_type": "stream",
     "text": [
      "                                            geometry  population\n",
      "0  POLYGON ((665242.309 5110752.670, 665260.260 5...       448.0\n",
      "1  POLYGON ((657212.867 5104833.944, 657230.733 5...       483.0\n",
      "2  POLYGON ((662888.431 5099370.773, 662906.358 5...        38.0\n",
      "3  POLYGON ((659028.771 5104495.406, 659046.656 5...      2354.0\n",
      "4  POLYGON ((667801.307 5104250.934, 667819.285 5...       993.0\n"
     ]
    }
   ],
   "source": [
    "pop_gdf = pop_gdf.to_crs(hex_grid_projected.crs)\n",
    "\n",
    "# Spatial join\n",
    "joined_gdf = gpd.sjoin(hex_grid_projected, pop_gdf, how=\"left\", predicate='intersects')\n",
    "\n",
    "# Since one hexagon might intersect with multiple population polygons,\n",
    "# we aggregate the population data for each hexagon.\n",
    "# Here we sum the populations, but you might choose a different method\n",
    "# depending on your specific requirements.\n",
    "hex_grid_with_population = joined_gdf.groupby(joined_gdf.index).agg({'population': 'sum'})\n",
    "hex_grid_projected = hex_grid_projected.merge(hex_grid_with_population, left_index=True, right_index=True)\n",
    "hex_grid_projected['population'] = hex_grid_projected['population'].fillna(0)\n",
    "print(hex_grid_projected.head())\n"
   ]
  }
 ],
 "metadata": {
  "kernelspec": {
   "display_name": "base",
   "language": "python",
   "name": "python3"
  },
  "language_info": {
   "codemirror_mode": {
    "name": "ipython",
    "version": 3
   },
   "file_extension": ".py",
   "mimetype": "text/x-python",
   "name": "python",
   "nbconvert_exporter": "python",
   "pygments_lexer": "ipython3",
   "version": "3.9.13"
  }
 },
 "nbformat": 4,
 "nbformat_minor": 2
}
