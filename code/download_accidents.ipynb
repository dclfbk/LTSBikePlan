{
 "cells": [
  {
   "cell_type": "code",
   "execution_count": 8,
   "metadata": {},
   "outputs": [],
   "source": [
    "import os\n",
    "import geopandas as gpd\n",
    "from owslib.wfs import WebFeatureService\n",
    "\n",
    "wfs_url = \"http://sit.comune.bolzano.it/geoserver/wfs?service=WFS\"\n",
    "wfs = WebFeatureService(url=wfs_url, version='2.0.0')\n",
    "layers = list(wfs.contents)\n",
    "\n",
    "incidenti = [layer for layer in layers if 'ciden' in layer]\n",
    "\n",
    "for incidente in incidenti:   \n",
    "    response = wfs.getfeature(typename=incidente)\n",
    "    data = gpd.read_file(response)\n",
    "    data.crs=\"epsg:25832\"\n",
    "    data = data.to_crs(epsg=4326)\n",
    "    data['DTINCID']=data['DTINCID'].astype(str)\n",
    "    data.DTINCID =data.DTINCID.apply(lambda x: x.replace(' 00:00:00+00:00',\"\"))\n",
    "    data['lon'] = data.geometry.x\n",
    "    data['lat'] = data.geometry.y\n",
    "    name = incidente.replace(\"Cartografia:view_\",\"\")\n",
    "\n",
    "    # Save to GeoJSON\n",
    "    geojson_path = \"/Users/leonardo/Desktop/Tesi/LTSBikePlan/data/\" + os.sep + name + \".geojson\"\n",
    "    data.to_file(geojson_path, driver=\"GeoJSON\")\n",
    "\n",
    "    # Save to CSV\n",
    "    csv_path = \"/Users/leonardo/Desktop/Tesi/LTSBikePlan/data/\" + os.sep + name + \".csv\"\n",
    "    del data['geometry']\n",
    "    data.to_csv(csv_path, index=False)\n",
    "\n"
   ]
  },
  {
   "cell_type": "code",
   "execution_count": null,
   "metadata": {},
   "outputs": [],
   "source": []
  }
 ],
 "metadata": {
  "kernelspec": {
   "display_name": "base",
   "language": "python",
   "name": "python3"
  },
  "language_info": {
   "codemirror_mode": {
    "name": "ipython",
    "version": 3
   },
   "file_extension": ".py",
   "mimetype": "text/x-python",
   "name": "python",
   "nbconvert_exporter": "python",
   "pygments_lexer": "ipython3",
   "version": "3.9.13"
  }
 },
 "nbformat": 4,
 "nbformat_minor": 2
}
